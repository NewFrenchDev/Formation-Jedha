{
 "cells": [
  {
   "cell_type": "code",
   "execution_count": 1,
   "metadata": {},
   "outputs": [],
   "source": [
    "import random"
   ]
  },
  {
   "cell_type": "code",
   "execution_count": 9,
   "metadata": {},
   "outputs": [],
   "source": [
    "class Game():\n",
    "    \n",
    "    def __init__(self):\n",
    "        self.running = True\n",
    "        self.quizz_path = \"Quizz.txt\"\n",
    "        "
   ]
  },
  {
   "cell_type": "code",
   "execution_count": 3,
   "metadata": {},
   "outputs": [],
   "source": [
    "class Quizz():\n",
    "    \n",
    "    def __init__(self, question= \"\", solution= \"\", answer= \"\", game=Game()):\n",
    "        self.question = question\n",
    "        self.solution = solution\n",
    "        self.answer = answer\n",
    "        self.try_counter = 0\n",
    "        self.game = game\n",
    "        self.running = True\n",
    "        \n",
    "    def define_question(self, question):\n",
    "        self.question = question\n",
    "        \n",
    "    def define_solution(self, solution):\n",
    "        self.solution = solution\n",
    "        \n",
    "    def select_random_quizz(self):\n",
    "        question = ''\n",
    "        solution = ''\n",
    "        solution_part_reading = False\n",
    "        with open(self.game.quizz_path) as f:\n",
    "            lines = f.readlines()\n",
    "            line_selected = random.choice(lines)\n",
    "            if line_selected[-1] in ['\\r\\n', '\\n', '\\r', '\\n\\r']:\n",
    "                line_selected = line_selected[:-1]\n",
    "            for carac in line_selected:\n",
    "                if carac == '&':\n",
    "                    solution_part_reading = True\n",
    "                    continue\n",
    "                if not solution_part_reading:\n",
    "                    question += carac\n",
    "                else:\n",
    "                    solution += carac\n",
    "        f.close()\n",
    "        self.define_question(question)\n",
    "        self.define_solution(solution)\n",
    "            \n",
    "        \n",
    "    def correct_answer_format(self, answer_to_correct):\n",
    "        try:\n",
    "            self.answer = answer_to_correct[0].upper() + answer_to_correct[1:].lower()\n",
    "        except:\n",
    "            self.answer = \"\"\n",
    "        \n",
    "    def answer_the_question(self):\n",
    "        answer = input(self.question)\n",
    "        self.correct_answer_format(answer)\n",
    "        self.try_counter += 1\n",
    "    \n",
    "    def win_or_lose(self):\n",
    "        if self.answer == self.solution:\n",
    "            print('Good job! This is the right answer')\n",
    "            print('\\n')\n",
    "            self.running = False\n",
    "        else:\n",
    "            print('Too bad! that is not the correct answer')\n",
    "            try_left = 3 - self.try_counter\n",
    "            print(\"Try left : {}\".format(try_left))\n",
    "            if self.try_counter == 3:\n",
    "                self.running = False\n",
    "                self.game.running = False\n",
    "                print(\":( You have lost the game\\n\")\n",
    "                self.relaunch_game()\n",
    "                \n",
    "    def launch_quizz(self):\n",
    "        if self.game.running: \n",
    "            while self.running:\n",
    "                self.answer_the_question()\n",
    "                self.win_or_lose()\n",
    "                \n",
    "    def relaunch_game(self):\n",
    "        restart = input(\"Do you want to retry? Y/N\")\n",
    "        if restart in ['Yes', 'Y', 'y']:\n",
    "            self.game.running = True\n",
    "        elif restart in ['No', 'N', 'n']:\n",
    "            print(\"See you soon!\")\n",
    "        else:\n",
    "            print('Incorrect entry...')\n",
    "            self.relaunch_game()\n",
    "            "
   ]
  },
  {
   "cell_type": "code",
   "execution_count": 4,
   "metadata": {},
   "outputs": [],
   "source": [
    "game = Game()\n",
    "\n",
    "quizz1 = Quizz(game)\n",
    "quizz2 = Quizz(game)\n",
    "quizz3 = Quizz(game)\n",
    "\n",
    "quizz1.select_random_quizz()\n",
    "quizz2.select_random_quizz()\n",
    "quizz3.select_random_quizz()\n",
    "\n"
   ]
  },
  {
   "cell_type": "code",
   "execution_count": 10,
   "metadata": {},
   "outputs": [],
   "source": [
    "\n",
    "quizz1.launch_quizz()\n",
    "quizz2.launch_quizz()\n",
    "quizz3.launch_quizz()\n"
   ]
  },
  {
   "cell_type": "code",
   "execution_count": 6,
   "metadata": {},
   "outputs": [
    {
     "data": {
      "text/plain": [
       "True"
      ]
     },
     "execution_count": 6,
     "metadata": {},
     "output_type": "execute_result"
    }
   ],
   "source": [
    "game.running"
   ]
  },
  {
   "cell_type": "code",
   "execution_count": 7,
   "metadata": {},
   "outputs": [],
   "source": [
    "quizz1.launch_quizz()\n",
    "quizz2.launch_quizz()\n",
    "quizz3.launch_quizz()"
   ]
  }
 ],
 "metadata": {
  "kernelspec": {
   "display_name": "Python 3",
   "language": "python",
   "name": "python3"
  },
  "language_info": {
   "codemirror_mode": {
    "name": "ipython",
    "version": 3
   },
   "file_extension": ".py",
   "mimetype": "text/x-python",
   "name": "python",
   "nbconvert_exporter": "python",
   "pygments_lexer": "ipython3",
   "version": "3.8.5"
  }
 },
 "nbformat": 4,
 "nbformat_minor": 4
}
