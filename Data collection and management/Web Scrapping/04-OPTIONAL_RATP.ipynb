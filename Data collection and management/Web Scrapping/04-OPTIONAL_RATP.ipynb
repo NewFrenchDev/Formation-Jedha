{
 "cells": [
  {
   "cell_type": "markdown",
   "metadata": {
    "colab_type": "text",
    "id": "ZAgek1U583Yp"
   },
   "source": [
    "# RATP\n",
    "\n",
    "Have you ever got lost on the subway? We're going to solve this problem thanks to the RATP's api."
   ]
  },
  {
   "cell_type": "markdown",
   "metadata": {
    "colab_type": "text",
    "id": "eKU4i9DA868d"
   },
   "source": [
    "1. Import the following libraries: \n",
    "\n",
    "      * requests\n",
    "      * pandas \n",
    "      * Image from PIL\n",
    "      * BytesIO from io"
   ]
  },
  {
   "cell_type": "code",
   "execution_count": 54,
   "metadata": {
    "colab": {},
    "colab_type": "code",
    "id": "UTtR-zQS8ysH"
   },
   "outputs": [],
   "source": [
    "import requests\n",
    "import pandas as pd\n",
    "import json"
   ]
  },
  {
   "cell_type": "markdown",
   "metadata": {
    "colab_type": "text",
    "id": "GlL_3ZTK9GN8"
   },
   "source": [
    "2. Go to <a href=\"https://api-ratp.pierre-grimaud.fr/v4/\" target=\"_blank\">https://api-ratp.pierre-grimaud.fr/v4/</a> and look at the map for the Metro lines using requests:"
   ]
  },
  {
   "cell_type": "code",
   "execution_count": 4,
   "metadata": {
    "colab": {
     "base_uri": "https://localhost:8080/",
     "height": 1000
    },
    "colab_type": "code",
    "id": "h4IftS298ysM",
    "outputId": "3fc51156-a1bb-4707-c028-fcfdcbd41206"
   },
   "outputs": [
    {
     "data": {
      "text/plain": [
       "<Response [200]>"
      ]
     },
     "execution_count": 4,
     "metadata": {},
     "output_type": "execute_result"
    }
   ],
   "source": [
    "url = 'https://api-ratp.pierre-grimaud.fr/v4/'\n",
    "response = requests.get(url)\n",
    "response"
   ]
  },
  {
   "cell_type": "code",
   "execution_count": 72,
   "metadata": {},
   "outputs": [
    {
     "data": {
      "text/plain": [
       "[{'code': '1',\n",
       "  'name': 'Métro 1',\n",
       "  'directions': 'La Defense / Chateau de Vincennes',\n",
       "  'id': '62'},\n",
       " {'code': '2',\n",
       "  'name': 'Métro 2',\n",
       "  'directions': 'Porte Dauphine / Nation',\n",
       "  'id': '67'},\n",
       " {'code': '3',\n",
       "  'name': 'Métro 3',\n",
       "  'directions': 'Pont de Levallois - Becon / Gallieni',\n",
       "  'id': '68'},\n",
       " {'code': '3b',\n",
       "  'name': 'Métro 3b',\n",
       "  'directions': 'Gambetta / Porte des Lilas',\n",
       "  'id': '69'},\n",
       " {'code': '4',\n",
       "  'name': 'Métro 4',\n",
       "  'directions': 'Mairie de Montrouge / Porte de Clignancourt',\n",
       "  'id': '70'},\n",
       " {'code': '5',\n",
       "  'name': 'Métro 5',\n",
       "  'directions': \"Place d'Italie / Bobigny - Pablo Picasso\",\n",
       "  'id': '71'},\n",
       " {'code': '6',\n",
       "  'name': 'Métro 6',\n",
       "  'directions': 'Charles de Gaulle - Etoile / Nation',\n",
       "  'id': '72'},\n",
       " {'code': '7',\n",
       "  'name': 'Métro 7',\n",
       "  'directions': \"Villejuif-L. Aragon / Mairie d'Ivry / la Courneuve - 8 Mai 1945\",\n",
       "  'id': '73'},\n",
       " {'code': '7b',\n",
       "  'name': 'Métro 7b',\n",
       "  'directions': 'Louis Blanc / Pre-Saint-Gervais',\n",
       "  'id': '74'},\n",
       " {'code': '8',\n",
       "  'name': 'Métro 8',\n",
       "  'directions': 'Pointe du Lac / Balard',\n",
       "  'id': '172562'},\n",
       " {'code': '9',\n",
       "  'name': 'Métro 9',\n",
       "  'directions': 'Mairie de Montreuil / Pont de Sevres',\n",
       "  'id': '76'},\n",
       " {'code': '10',\n",
       "  'name': 'Métro 10',\n",
       "  'directions': \"Gare d'Austerlitz / Boulogne - Pont de Saint Cloud\",\n",
       "  'id': '63'},\n",
       " {'code': '11',\n",
       "  'name': 'Métro 11',\n",
       "  'directions': 'Chatelet / Mairie des Lilas',\n",
       "  'id': '64'},\n",
       " {'code': '12',\n",
       "  'name': 'Métro 12',\n",
       "  'directions': \"Front Populaire / Mairie d'Issy\",\n",
       "  'id': '65'},\n",
       " {'code': '13',\n",
       "  'name': 'Métro 13',\n",
       "  'directions': 'St-Denis-Universite/Les Courtilles / Chatillon - Montrouge',\n",
       "  'id': '66'},\n",
       " {'code': '14',\n",
       "  'name': 'Métro 14',\n",
       "  'directions': 'Olympiades / Mairie de Saint-Ouen',\n",
       "  'id': '55098'},\n",
       " {'code': 'Fun', 'name': 'Métro Fun', 'directions': 'Funiculaire', 'id': '79'},\n",
       " {'code': 'Orv',\n",
       "  'name': 'Métro Orv',\n",
       "  'directions': 'Orly 4 / Antony-RER',\n",
       "  'id': '455'}]"
      ]
     },
     "execution_count": 72,
     "metadata": {},
     "output_type": "execute_result"
    }
   ],
   "source": [
    "lines_access = 'lines/'\n",
    "metros_access = 'metros/'\n",
    "metros = requests.get(url+lines_access+metros_access)\n",
    "metros.json()['result']['metros']"
   ]
  },
  {
   "cell_type": "markdown",
   "metadata": {
    "colab_type": "text",
    "id": "aeD2ouWA9L6p"
   },
   "source": [
    "3. Extract all stations on Line 9:"
   ]
  },
  {
   "cell_type": "code",
   "execution_count": 71,
   "metadata": {
    "colab": {
     "base_uri": "https://localhost:8080/",
     "height": 668
    },
    "colab_type": "code",
    "id": "00_eyA2j8ysX",
    "outputId": "6c9a2959-3ab8-406f-aa83-59d49a80aeee"
   },
   "outputs": [
    {
     "data": {
      "text/plain": [
       "[{'name': 'Pont de Sevres', 'slug': 'pont+de+sevres'},\n",
       " {'name': 'Billancourt', 'slug': 'billancourt'},\n",
       " {'name': 'Marcel Sembat', 'slug': 'marcel+sembat'},\n",
       " {'name': 'Porte de Saint-Cloud', 'slug': 'porte+de+saint+cloud'},\n",
       " {'name': 'Exelmans', 'slug': 'exelmans'},\n",
       " {'name': 'Michel-Ange-Molitor', 'slug': 'michel+ange+molitor'},\n",
       " {'name': 'Michel-Ange-Auteuil', 'slug': 'michel+ange+auteuil'},\n",
       " {'name': 'Jasmin', 'slug': 'jasmin'},\n",
       " {'name': 'Ranelagh', 'slug': 'ranelagh'},\n",
       " {'name': 'La Muette', 'slug': 'la+muette'},\n",
       " {'name': 'Rue de la Pompe (Avenue Georges Mandel)',\n",
       "  'slug': 'rue+de+la+pompe+(avenue+georges+mandel)'},\n",
       " {'name': 'Trocadero', 'slug': 'trocadero'},\n",
       " {'name': 'Iena', 'slug': 'iena'},\n",
       " {'name': 'Alma-Marceau', 'slug': 'alma+marceau'},\n",
       " {'name': 'Franklin-Roosevelt', 'slug': 'franklin+roosevelt'},\n",
       " {'name': 'Saint-Philippe du Roule', 'slug': 'saint+philippe+du+roule'},\n",
       " {'name': 'Miromesnil', 'slug': 'miromesnil'},\n",
       " {'name': 'Saint-Augustin', 'slug': 'saint+augustin'},\n",
       " {'name': 'Havre-Caumartin', 'slug': 'havre+caumartin'},\n",
       " {'name': \"Chaussee d'Antin (La Fayette)\",\n",
       "  'slug': \"chaussee+d'antin+(la+fayette)\"},\n",
       " {'name': 'Richelieu-Drouot', 'slug': 'richelieu+drouot'},\n",
       " {'name': 'Grands Boulevards', 'slug': 'grands+boulevards'},\n",
       " {'name': 'Bonne Nouvelle', 'slug': 'bonne+nouvelle'},\n",
       " {'name': 'Strasbourg-Saint-Denis', 'slug': 'strasbourg+saint+denis'},\n",
       " {'name': 'Republique', 'slug': 'republique'},\n",
       " {'name': 'Oberkampf', 'slug': 'oberkampf'},\n",
       " {'name': 'Saint-Ambroise', 'slug': 'saint+ambroise'},\n",
       " {'name': 'Voltaire (Leon Blum)', 'slug': 'voltaire+(leon+blum)'},\n",
       " {'name': 'Charonne', 'slug': 'charonne'},\n",
       " {'name': 'Rue des Boulets', 'slug': 'rue+des+boulets'},\n",
       " {'name': 'Nation', 'slug': 'nation'},\n",
       " {'name': 'Buzenval', 'slug': 'buzenval'},\n",
       " {'name': 'Maraichers', 'slug': 'maraichers'},\n",
       " {'name': 'Porte de Montreuil', 'slug': 'porte+de+montreuil'},\n",
       " {'name': 'Robespierre', 'slug': 'robespierre'},\n",
       " {'name': 'Croix-de-Chavaux (Jacques Duclos)',\n",
       "  'slug': 'croix+de+chavaux+(jacques+duclos)'},\n",
       " {'name': 'Mairie de Montreuil', 'slug': 'mairie+de+montreuil'}]"
      ]
     },
     "execution_count": 71,
     "metadata": {},
     "output_type": "execute_result"
    }
   ],
   "source": [
    "stations_access = \"stations/\"\n",
    "metroId = '9/'\n",
    "\n",
    "stations = requests.get(url+stations_access+metros_access+metroId)\n",
    "stations.json()[\"result\"][\"stations\"]"
   ]
  },
  {
   "cell_type": "markdown",
   "metadata": {
    "colab_type": "text",
    "id": "V1ExLCy69OUz"
   },
   "source": [
    "4. Look at the directions on line 9:"
   ]
  },
  {
   "cell_type": "code",
   "execution_count": 70,
   "metadata": {
    "colab": {
     "base_uri": "https://localhost:8080/",
     "height": 52
    },
    "colab_type": "code",
    "id": "bjFjLUqf8ysd",
    "outputId": "89280ef5-d2a2-4bc7-8e11-1eafcba968c7"
   },
   "outputs": [
    {
     "data": {
      "text/plain": [
       "[{'name': 'Mairie de Montreuil', 'way': 'A'},\n",
       " {'name': 'Pont de Sevres', 'way': 'R'}]"
      ]
     },
     "execution_count": 70,
     "metadata": {},
     "output_type": "execute_result"
    }
   ],
   "source": [
    "destinations_access = \"destinations/\"\n",
    "directions = requests.get(url+destinations_access+metros_access+metroId)\n",
    "directions.json()[\"result\"][\"destinations\"]"
   ]
  },
  {
   "cell_type": "markdown",
   "metadata": {
    "colab_type": "text",
    "id": "KwalEFCZ9Q8Q"
   },
   "source": [
    "5. Watch the time of the next subways at the Franklin Roosevelt station in the direction of Pont de Sèvres:"
   ]
  },
  {
   "cell_type": "code",
   "execution_count": 69,
   "metadata": {
    "colab": {
     "base_uri": "https://localhost:8080/",
     "height": 34
    },
    "colab_type": "code",
    "id": "rGn0RMtY8ysg",
    "outputId": "bc0aa033-e61f-4b8a-f97c-ebc49b73c550"
   },
   "outputs": [
    {
     "data": {
      "text/plain": [
       "['2 mn', '9 mn', '11 mn', '11 mn']"
      ]
     },
     "execution_count": 69,
     "metadata": {},
     "output_type": "execute_result"
    }
   ],
   "source": [
    "schedules_access = 'schedules/'\n",
    "station = \"Franklin Roosevelt/\"\n",
    "direction = \"R/\"\n",
    "schedules = requests.get(url+schedules_access+metros_access+metroId+station+direction)\n",
    "\n",
    "liste_next_train = []\n",
    "result_info = schedules.json()\n",
    "schedules_info = result_info[\"result\"][\"schedules\"]\n",
    "\n",
    "for next_train_time in schedules_info:\n",
    "    time = next_train_time[\"message\"]\n",
    "    liste_next_train.append(time)\n",
    "\n",
    "liste_next_train"
   ]
  },
  {
   "cell_type": "markdown",
   "metadata": {
    "colab_type": "text",
    "id": "7lNpfhgV9Tkz"
   },
   "source": [
    "6. Extract the logo from line 9 "
   ]
  },
  {
   "cell_type": "code",
   "execution_count": 6,
   "metadata": {
    "colab": {
     "base_uri": "https://localhost:8080/",
     "height": 38
    },
    "colab_type": "code",
    "id": "XiW1XgVi8ysS",
    "outputId": "c5243289-0530-4a84-f873-48be1bcd96d6"
   },
   "outputs": [
    {
     "data": {
      "image/png": "[encoded data removed]",
      "text/plain": [
       "<PIL.GifImagePlugin.GifImageFile image mode=P size=21x21 at 0x120A78F70>"
      ]
     },
     "execution_count": 6,
     "metadata": {},
     "output_type": "execute_result"
    }
   ],
   "source": []
  }
 ],
 "metadata": {
  "colab": {
   "name": "RATP - Exercice SOLUTION.ipynb",
   "provenance": []
  },
  "kernelspec": {
   "display_name": "Python 3",
   "language": "python",
   "name": "python3"
  },
  "language_info": {
   "codemirror_mode": {
    "name": "ipython",
    "version": 3
   },
   "file_extension": ".py",
   "mimetype": "text/x-python",
   "name": "python",
   "nbconvert_exporter": "python",
   "pygments_lexer": "ipython3",
   "version": "3.8.6"
  }
 },
 "nbformat": 4,
 "nbformat_minor": 4
}
