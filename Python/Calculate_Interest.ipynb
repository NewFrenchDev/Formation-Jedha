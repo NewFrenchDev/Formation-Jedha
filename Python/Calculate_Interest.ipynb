{
 "cells": [
  {
   "cell_type": "code",
   "execution_count": 1,
   "metadata": {},
   "outputs": [],
   "source": [
    "def savings():\n",
    "    terminate = False\n",
    "    amount_indicated = False\n",
    "    number_of_year_indicated = False\n",
    "    \n",
    "    while terminate == False:\n",
    "        try:\n",
    "            if amount_indicated == False:\n",
    "                amount_invested = float(input(\"Amount for the investment :\"))\n",
    "                if amount_invested < 0:\n",
    "                    raise ValueError\n",
    "                else:\n",
    "                    amount_indicated = True\n",
    "            \n",
    "            if number_of_year_indicated == False:\n",
    "                number_of_year = float(input(\"Number of years :\"))\n",
    "                if number_of_year < 0:\n",
    "                    raise ValueError\n",
    "                else:\n",
    "                    number_of_year_indicated = True\n",
    "            \n",
    "            rate_interest = float(input(\"Rate of the investment :\"))\n",
    "            if not 0 <= rate_interest <= 1:\n",
    "                raise Exception\n",
    "                \n",
    "            result = amount_invested + amount_invested * number_of_year * rate_interest\n",
    " \n",
    "            terminate = True\n",
    "        \n",
    "        except ValueError:\n",
    "            print(\"You must enter a positive number!\")\n",
    "        except Exception:\n",
    "            print(\"The rate should be entered as a decimal number for instance 0.13 if 13%\")\n",
    "            \n",
    "    print(\"You should obtain {} after {} years\".format(round(result, 2), number_of_year))"
   ]
  },
  {
   "cell_type": "code",
   "execution_count": 2,
   "metadata": {},
   "outputs": [
    {
     "name": "stdin",
     "output_type": "stream",
     "text": [
      "Amount for the investment : efzfz\n"
     ]
    },
    {
     "name": "stdout",
     "output_type": "stream",
     "text": [
      "You must enter a positive number!\n"
     ]
    },
    {
     "name": "stdin",
     "output_type": "stream",
     "text": [
      "Amount for the investment : efzefz\n"
     ]
    },
    {
     "name": "stdout",
     "output_type": "stream",
     "text": [
      "You must enter a positive number!\n"
     ]
    },
    {
     "name": "stdin",
     "output_type": "stream",
     "text": [
      "Amount for the investment : 10000\n",
      "Number of years : faefzf\n"
     ]
    },
    {
     "name": "stdout",
     "output_type": "stream",
     "text": [
      "You must enter a positive number!\n"
     ]
    },
    {
     "name": "stdin",
     "output_type": "stream",
     "text": [
      "Number of years : zefezfze\n"
     ]
    },
    {
     "name": "stdout",
     "output_type": "stream",
     "text": [
      "You must enter a positive number!\n"
     ]
    },
    {
     "name": "stdin",
     "output_type": "stream",
     "text": [
      "Number of years : fezf\n"
     ]
    },
    {
     "name": "stdout",
     "output_type": "stream",
     "text": [
      "You must enter a positive number!\n"
     ]
    },
    {
     "name": "stdin",
     "output_type": "stream",
     "text": [
      "Number of years : zf\n"
     ]
    },
    {
     "name": "stdout",
     "output_type": "stream",
     "text": [
      "You must enter a positive number!\n"
     ]
    },
    {
     "name": "stdin",
     "output_type": "stream",
     "text": [
      "Number of years : 12\n",
      "Rate of the investment : 1\n"
     ]
    },
    {
     "name": "stdout",
     "output_type": "stream",
     "text": [
      "You should obtain 130000.0 after 12.0 years\n"
     ]
    }
   ],
   "source": [
    "savings()"
   ]
  },
  {
   "cell_type": "code",
   "execution_count": null,
   "metadata": {},
   "outputs": [],
   "source": []
  }
 ],
 "metadata": {
  "kernelspec": {
   "display_name": "Python 3",
   "language": "python",
   "name": "python3"
  },
  "language_info": {
   "codemirror_mode": {
    "name": "ipython",
    "version": 3
   },
   "file_extension": ".py",
   "mimetype": "text/x-python",
   "name": "python",
   "nbconvert_exporter": "python",
   "pygments_lexer": "ipython3",
   "version": "3.8.6"
  }
 },
 "nbformat": 4,
 "nbformat_minor": 4
}
