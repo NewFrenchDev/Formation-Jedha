{
 "cells": [
  {
   "cell_type": "code",
   "execution_count": 1,
   "metadata": {},
   "outputs": [
    {
     "name": "stdin",
     "output_type": "stream",
     "text": [
      "Choose a password : Jedha\n"
     ]
    }
   ],
   "source": [
    "password_account = input(\"Choose a password :\")"
   ]
  },
  {
   "cell_type": "code",
   "execution_count": 2,
   "metadata": {},
   "outputs": [
    {
     "name": "stdin",
     "output_type": "stream",
     "text": [
      "Password : fvrzeve\n",
      "Incorrect password - Retry : egzdjca\n",
      "Incorrect password - Retry : &é\"eé\"r\n",
      "Incorrect password - Retry : Jedha\n"
     ]
    },
    {
     "name": "stdout",
     "output_type": "stream",
     "text": [
      "You are now connected!\n"
     ]
    }
   ],
   "source": [
    "#Vérification du mot de passe\n",
    "password = input(\"Password :\")\n",
    "\n",
    "while password != password_account:\n",
    "    password = input(\"Incorrect password - Retry :\")\n",
    "    \n",
    "print(\"You are now connected!\")"
   ]
  }
 ],
 "metadata": {
  "kernelspec": {
   "display_name": "Python 3",
   "language": "python",
   "name": "python3"
  },
  "language_info": {
   "codemirror_mode": {
    "name": "ipython",
    "version": 3
   },
   "file_extension": ".py",
   "mimetype": "text/x-python",
   "name": "python",
   "nbconvert_exporter": "python",
   "pygments_lexer": "ipython3",
   "version": "3.8.5"
  }
 },
 "nbformat": 4,
 "nbformat_minor": 4
}
