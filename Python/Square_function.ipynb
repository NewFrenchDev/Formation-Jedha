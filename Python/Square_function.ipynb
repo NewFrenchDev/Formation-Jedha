{
 "cells": [
  {
   "cell_type": "code",
   "execution_count": 19,
   "metadata": {},
   "outputs": [],
   "source": [
    "def sqrt(number):\n",
    "    try:\n",
    "        #Boolean exclusion\n",
    "        if(number == True or number == False):\n",
    "            raise TypeError\n",
    "        else:\n",
    "            result = number**0.5\n",
    "            print(\"The square root of {} is {}\".format(number, round(result, 3)))\n",
    "    except:\n",
    "        return \"You must enter a positive number!\"      "
   ]
  },
  {
   "cell_type": "code",
   "execution_count": 20,
   "metadata": {},
   "outputs": [
    {
     "data": {
      "text/plain": [
       "'You must enter a positive number!'"
      ]
     },
     "execution_count": 20,
     "metadata": {},
     "output_type": "execute_result"
    }
   ],
   "source": [
    "sqrt(-5.36)"
   ]
  },
  {
   "cell_type": "code",
   "execution_count": 21,
   "metadata": {},
   "outputs": [
    {
     "data": {
      "text/plain": [
       "'You must enter a positive number!'"
      ]
     },
     "execution_count": 21,
     "metadata": {},
     "output_type": "execute_result"
    }
   ],
   "source": [
    "sqrt(\"NaN\")"
   ]
  },
  {
   "cell_type": "code",
   "execution_count": 22,
   "metadata": {},
   "outputs": [
    {
     "name": "stdout",
     "output_type": "stream",
     "text": [
      "The square root of 100 is 10.0\n",
      "The square root of 9 is 3.0\n",
      "The square root of 142.56 is 11.94\n",
      "The square root of 36 is 6.0\n"
     ]
    }
   ],
   "source": [
    "sqrt(100)\n",
    "sqrt(9)\n",
    "sqrt(142.56)\n",
    "sqrt(36)"
   ]
  }
 ],
 "metadata": {
  "kernelspec": {
   "display_name": "Python 3",
   "language": "python",
   "name": "python3"
  },
  "language_info": {
   "codemirror_mode": {
    "name": "ipython",
    "version": 3
   },
   "file_extension": ".py",
   "mimetype": "text/x-python",
   "name": "python",
   "nbconvert_exporter": "python",
   "pygments_lexer": "ipython3",
   "version": "3.8.5"
  }
 },
 "nbformat": 4,
 "nbformat_minor": 4
}
