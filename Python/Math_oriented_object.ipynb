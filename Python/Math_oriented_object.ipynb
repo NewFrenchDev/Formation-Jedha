{
 "cells": [
  {
   "cell_type": "code",
   "execution_count": 10,
   "metadata": {},
   "outputs": [],
   "source": [
    "class math():\n",
    "    \n",
    "    #Méthode du  calcul de la racine carré d'un nombre\n",
    "    def sqrt(self, number):\n",
    "        try:\n",
    "            result = number**0.5\n",
    "            print(\"The square root of {} is {}\".format(number, round(result, 2)))\n",
    "        except:\n",
    "            print('Only positive number are accepted')\n",
    "        \n",
    "    #Méthode du calcul de la moyenne  \n",
    "    def mean(self, list_number):\n",
    "        result = 0\n",
    "        static_list = list_number.copy() \n",
    "        for number in static_list:\n",
    "            try:\n",
    "                result += number\n",
    "            except:\n",
    "                print('{} is not a number so this element is not take account for this calculation'.format(number))\n",
    "                list_number.remove(number)\n",
    "            \n",
    "        result = result / len(list_number)\n",
    "        \n",
    "        str1 = \"The average of \"\n",
    "        str2 = ', '.join('{}'.format(k) for k in list_number[:-1])\n",
    "        str3 = \" and {} \".format(list_number[-1])\n",
    "        str4 = \"is {}\".format(round(result, 2))\n",
    "        \n",
    "        final_str = str1 + str2 + str3 + str4\n",
    "        print(final_str)\n",
    "    \n",
    "    #Méthode d'identification d'un nombre pair ou impair\n",
    "    def even_or_odd(self, number):\n",
    "        try:\n",
    "            if type(number) == float:\n",
    "                raise Exception\n",
    "            if number%2 == 0:\n",
    "                print(\"{} is an even\".format(number))\n",
    "            else:\n",
    "                print(\"{} is an odd\".format(number))\n",
    "        except:\n",
    "            print(\"An integer number is required!\")\n",
    "   \n",
    "    #Méthode de sommation des nombres\n",
    "    def sum_number(self, list_number):\n",
    "        result = 0\n",
    "        static_list = list_number.copy() \n",
    "        for number in static_list:\n",
    "            try:\n",
    "                result += number\n",
    "            except:\n",
    "                print('{} is not a number so this element is not take account for this calculation'.format(number))\n",
    "                list_number.remove(number)\n",
    "         \n",
    "        str1 = \"The sum of \"\n",
    "        str2 = ', '.join('{}'.format(k) for k in list_number[:-1])\n",
    "        str3 = \" and {} \".format(list_number[-1])\n",
    "        str4 = \"is {}\".format(round(result, 2))\n",
    "        \n",
    "        final_str = str1 + str2 + str3 + str4   \n",
    "        print(final_str)\n",
    "      "
   ]
  },
  {
   "cell_type": "code",
   "execution_count": 2,
   "metadata": {},
   "outputs": [
    {
     "name": "stdout",
     "output_type": "stream",
     "text": [
      "Only positive number are accepted\n"
     ]
    }
   ],
   "source": [
    "math0 = math()\n",
    "math0.sqrt(-100)"
   ]
  },
  {
   "cell_type": "code",
   "execution_count": 3,
   "metadata": {},
   "outputs": [
    {
     "name": "stdout",
     "output_type": "stream",
     "text": [
      "None is not a number so this element is not take account for this calculation\n",
      "Nn is not a number so this element is not take account for this calculation\n",
      "The average of 0, 5, 100 and 45 is 37.5\n"
     ]
    }
   ],
   "source": [
    "math1 = math()\n",
    "math1.mean([0, 5, 100, 45, None, \"Nn\"])"
   ]
  },
  {
   "cell_type": "code",
   "execution_count": 9,
   "metadata": {},
   "outputs": [
    {
     "name": "stdout",
     "output_type": "stream",
     "text": [
      "4 is an even\n",
      "11 is an odd\n",
      "-37 is an odd\n",
      "An integer number is required!\n",
      "100 is an even\n"
     ]
    }
   ],
   "source": [
    "math2 = math()\n",
    "math2.even_or_odd(4)\n",
    "math2.even_or_odd(11)\n",
    "math2.even_or_odd(-37)\n",
    "math2.even_or_odd(-2.4)\n",
    "math2.even_or_odd(100)"
   ]
  },
  {
   "cell_type": "code",
   "execution_count": 8,
   "metadata": {},
   "outputs": [
    {
     "name": "stdout",
     "output_type": "stream",
     "text": [
      "None is not a number so this element is not take account for this calculation\n",
      "NN is not a number so this element is not take account for this calculation\n",
      "Nn is not a number so this element is not take account for this calculation\n",
      "The sum of 7, 45, 35 and 122 is 209\n"
     ]
    }
   ],
   "source": [
    "math3 = math()\n",
    "math3.sum_number([7,45,None,35,\"NN\",122, \"Nn\"])"
   ]
  }
 ],
 "metadata": {
  "kernelspec": {
   "display_name": "Python 3",
   "language": "python",
   "name": "python3"
  },
  "language_info": {
   "codemirror_mode": {
    "name": "ipython",
    "version": 3
   },
   "file_extension": ".py",
   "mimetype": "text/x-python",
   "name": "python",
   "nbconvert_exporter": "python",
   "pygments_lexer": "ipython3",
   "version": "3.8.6"
  }
 },
 "nbformat": 4,
 "nbformat_minor": 4
}
