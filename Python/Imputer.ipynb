{
 "cells": [
  {
   "cell_type": "code",
   "execution_count": 6,
   "metadata": {},
   "outputs": [],
   "source": [
    "class Imputer():\n",
    "    \n",
    "    def __init__(self, list_number = []):\n",
    "        self.list_number = list_number\n",
    "        self.mean = 0\n",
    "        self.median = 0\n",
    "    \n",
    "    def calculate_average(self):\n",
    "        result = 0\n",
    "        count_number = len(self.list_number)\n",
    "        \n",
    "        for number in self.list_number:\n",
    "            try:\n",
    "                result += number\n",
    "            except:\n",
    "                count_number -= 1                         \n",
    "        self.mean = round(result / count_number, 2)\n",
    "        \n",
    "        \n",
    "    def replace_NaN_by_average(self):\n",
    "        modified_list = []\n",
    "        \n",
    "        self.calculate_average()\n",
    "        \n",
    "        for element in self.list_number:\n",
    "            if type(element) == int or type(element) == float:\n",
    "                modified_list.append(element)\n",
    "            else:\n",
    "                modified_list.append(self.mean)\n",
    "           \n",
    "        print(\"Here's my initial list {}\".format(self.list_number))\n",
    "        print(\"Here is my list with the empty values replaced by the average value : {}\".format(modified_list))\n",
    "    \n",
    "    def calculate_median(self):\n",
    "        modified_list = []\n",
    "        \n",
    "        #Create list with only numbers\n",
    "        for element in self.list_number:\n",
    "            if type(element) == int or type(element) == float:\n",
    "                modified_list.append(element)\n",
    "        \n",
    "        #Sort list with number\n",
    "        modified_list.sort()\n",
    "        \n",
    "        #Determinate median if even or odd list\n",
    "        if len(modified_list) % 2 == 0:\n",
    "            first_value = modified_list[len(modified_list) // 2 - 1]\n",
    "            second_value = modified_list[len(modified_list) // 2 ]\n",
    "            self.median = (first_value + second_value) / 2\n",
    "        else:\n",
    "            self.median = modified_list[len(modified_list) // 2]\n",
    "            \n",
    "                  \n",
    "    def replace_NaN_by_median(self):\n",
    "        modified_list = []\n",
    "        \n",
    "        self.calculate_median()\n",
    "\n",
    "        for element in self.list_number:\n",
    "            if type(element) == int or type(element) == float:\n",
    "                modified_list.append(element)\n",
    "            else:\n",
    "                modified_list.append(self.median)\n",
    "           \n",
    "        print(\"Here's my initial list {}\".format(self.list_number))\n",
    "        print(\"Here is my list with the empty values replaced by the median : {}\".format(modified_list))\n",
    "        "
   ]
  },
  {
   "cell_type": "code",
   "execution_count": 7,
   "metadata": {},
   "outputs": [],
   "source": [
    "imputer = Imputer([5,6,None,9,20,\"DoT\",11,None])"
   ]
  },
  {
   "cell_type": "code",
   "execution_count": 8,
   "metadata": {},
   "outputs": [
    {
     "name": "stdout",
     "output_type": "stream",
     "text": [
      "Here's my initial list [5, 6, None, 9, 20, 'DoT', 11, None]\n",
      "Here is my list with the empty values replaced by the average value : [5, 6, 10.2, 9, 20, 10.2, 11, 10.2]\n"
     ]
    }
   ],
   "source": [
    "imputer.replace_NaN_by_average()"
   ]
  },
  {
   "cell_type": "code",
   "execution_count": 9,
   "metadata": {},
   "outputs": [
    {
     "name": "stdout",
     "output_type": "stream",
     "text": [
      "Here's my initial list [5, 6, None, 9, 20, 'DoT', 11, None]\n",
      "Here is my list with the empty values replaced by the median : [5, 6, 9, 9, 20, 9, 11, 9]\n"
     ]
    }
   ],
   "source": [
    "imputer.replace_NaN_by_median()"
   ]
  }
 ],
 "metadata": {
  "kernelspec": {
   "display_name": "Python 3",
   "language": "python",
   "name": "python3"
  },
  "language_info": {
   "codemirror_mode": {
    "name": "ipython",
    "version": 3
   },
   "file_extension": ".py",
   "mimetype": "text/x-python",
   "name": "python",
   "nbconvert_exporter": "python",
   "pygments_lexer": "ipython3",
   "version": "3.8.5"
  }
 },
 "nbformat": 4,
 "nbformat_minor": 4
}
